{
 "cells": [
  {
   "cell_type": "code",
   "execution_count": 1,
   "metadata": {},
   "outputs": [],
   "source": [
    "#Crea un array 1D con 50 valores aleatorio del 10 al 99. Accede a los elementos en las posiciones múltiplos de 5."
   ]
  },
  {
   "cell_type": "code",
   "execution_count": 2,
   "metadata": {},
   "outputs": [],
   "source": [
    "import numpy as np"
   ]
  },
  {
   "cell_type": "code",
   "execution_count": 3,
   "metadata": {},
   "outputs": [],
   "source": [
    "arr1 = np.random.randint(10, 100, 50)"
   ]
  },
  {
   "cell_type": "code",
   "execution_count": 4,
   "metadata": {},
   "outputs": [
    {
     "data": {
      "text/plain": [
       "array([16, 92, 30, 31, 76, 29, 72, 55, 21, 79, 70, 37, 51, 37, 68, 96, 41,\n",
       "       50, 96, 47, 45, 65, 36, 55, 55, 66, 15, 30, 49, 80, 49, 48, 79, 67,\n",
       "       26, 29, 56, 29, 89, 20, 28, 20, 48, 90, 55, 23, 63, 60, 98, 31])"
      ]
     },
     "execution_count": 4,
     "metadata": {},
     "output_type": "execute_result"
    }
   ],
   "source": [
    "arr1"
   ]
  },
  {
   "cell_type": "code",
   "execution_count": 5,
   "metadata": {},
   "outputs": [],
   "source": [
    "multiplos_5 = arr1[::5]"
   ]
  },
  {
   "cell_type": "code",
   "execution_count": 6,
   "metadata": {},
   "outputs": [
    {
     "data": {
      "text/plain": [
       "array([16, 29, 70, 96, 45, 66, 49, 29, 28, 23])"
      ]
     },
     "execution_count": 6,
     "metadata": {},
     "output_type": "execute_result"
    }
   ],
   "source": [
    "multiplos_5"
   ]
  },
  {
   "cell_type": "code",
   "execution_count": 7,
   "metadata": {},
   "outputs": [],
   "source": [
    "# Crea un array 1D con 30 valores aleatorios del 1 al 20 (ambos incluidos). Utiliza indexación para obtener los elementos en las posiciones impares."
   ]
  },
  {
   "cell_type": "code",
   "execution_count": 8,
   "metadata": {},
   "outputs": [],
   "source": [
    "arr2 = np.random.randint(1, 21, 30)"
   ]
  },
  {
   "cell_type": "code",
   "execution_count": 9,
   "metadata": {},
   "outputs": [
    {
     "data": {
      "text/plain": [
       "array([16,  1,  4, 20, 19,  9, 10,  7, 12, 19,  3, 18,  7, 20,  5,  4,  2,\n",
       "        3, 19,  5, 19, 13,  4, 15,  1, 18,  4, 16, 10,  8])"
      ]
     },
     "execution_count": 9,
     "metadata": {},
     "output_type": "execute_result"
    }
   ],
   "source": [
    "arr2"
   ]
  },
  {
   "cell_type": "code",
   "execution_count": 10,
   "metadata": {},
   "outputs": [],
   "source": [
    "impares = arr2[::2]"
   ]
  },
  {
   "cell_type": "code",
   "execution_count": 11,
   "metadata": {},
   "outputs": [
    {
     "data": {
      "text/plain": [
       "array([16,  4, 19, 10, 12,  3,  7,  5,  2, 19, 19,  4,  1,  4, 10])"
      ]
     },
     "execution_count": 11,
     "metadata": {},
     "output_type": "execute_result"
    }
   ],
   "source": [
    "impares"
   ]
  },
  {
   "cell_type": "code",
   "execution_count": 12,
   "metadata": {},
   "outputs": [],
   "source": [
    "\n",
    "#Crea un array 2D de forma (4, 6) con números aleatorios decimales (no deben estar comprendidos solo entre 0 y 1). \n",
    "#Accede a la última fila de la matriz. Los decimales deben estar redondeados a 2 decimales."
   ]
  },
  {
   "cell_type": "code",
   "execution_count": 13,
   "metadata": {},
   "outputs": [],
   "source": [
    "arr3 = np.random.randint(5, 25, (4,6)) + np.random.rand(4,6) "
   ]
  },
  {
   "cell_type": "code",
   "execution_count": 14,
   "metadata": {},
   "outputs": [
    {
     "data": {
      "text/plain": [
       "array([[ 9.67922052, 15.38665267, 16.17931   , 15.29753271, 12.62140097,\n",
       "        22.38344269],\n",
       "       [ 5.56770085,  8.35341592, 18.876747  , 17.25217005, 16.24891286,\n",
       "        16.14578522],\n",
       "       [ 8.3371777 , 20.74071998, 13.12204343,  9.93581038,  5.90818548,\n",
       "        16.12536564],\n",
       "       [12.50784071, 12.09858544, 14.03119664,  7.36877273,  8.37968525,\n",
       "        11.9351189 ]])"
      ]
     },
     "execution_count": 14,
     "metadata": {},
     "output_type": "execute_result"
    }
   ],
   "source": [
    "arr3"
   ]
  },
  {
   "cell_type": "code",
   "execution_count": 15,
   "metadata": {},
   "outputs": [],
   "source": [
    "arr3 = np.round (arr3, 2)"
   ]
  },
  {
   "cell_type": "code",
   "execution_count": 16,
   "metadata": {},
   "outputs": [
    {
     "data": {
      "text/plain": [
       "array([[ 9.68, 15.39, 16.18, 15.3 , 12.62, 22.38],\n",
       "       [ 5.57,  8.35, 18.88, 17.25, 16.25, 16.15],\n",
       "       [ 8.34, 20.74, 13.12,  9.94,  5.91, 16.13],\n",
       "       [12.51, 12.1 , 14.03,  7.37,  8.38, 11.94]])"
      ]
     },
     "execution_count": 16,
     "metadata": {},
     "output_type": "execute_result"
    }
   ],
   "source": [
    "arr3"
   ]
  },
  {
   "cell_type": "code",
   "execution_count": 17,
   "metadata": {},
   "outputs": [],
   "source": [
    "ultima_fila = arr3[-1]"
   ]
  },
  {
   "cell_type": "code",
   "execution_count": 18,
   "metadata": {},
   "outputs": [
    {
     "data": {
      "text/plain": [
       "array([12.51, 12.1 , 14.03,  7.37,  8.38, 11.94])"
      ]
     },
     "execution_count": 18,
     "metadata": {},
     "output_type": "execute_result"
    }
   ],
   "source": [
    "ultima_fila"
   ]
  },
  {
   "cell_type": "code",
   "execution_count": 19,
   "metadata": {},
   "outputs": [],
   "source": [
    "arr3_1 = np.random.rand(4,6) # prueba que hemos hecho con valores 0 y 1"
   ]
  },
  {
   "cell_type": "code",
   "execution_count": 20,
   "metadata": {},
   "outputs": [
    {
     "data": {
      "text/plain": [
       "array([[0.26602897, 0.6740286 , 0.63263934, 0.42500999, 0.05672327,\n",
       "        0.60928038],\n",
       "       [0.64387539, 0.96774004, 0.5715995 , 0.8958755 , 0.30014337,\n",
       "        0.07717959],\n",
       "       [0.51173835, 0.33535065, 0.62271932, 0.49765181, 0.75791516,\n",
       "        0.25791405],\n",
       "       [0.88772349, 0.45657448, 0.24395068, 0.92892373, 0.43567179,\n",
       "        0.23598413]])"
      ]
     },
     "execution_count": 20,
     "metadata": {},
     "output_type": "execute_result"
    }
   ],
   "source": [
    "arr3_1"
   ]
  },
  {
   "cell_type": "code",
   "execution_count": 21,
   "metadata": {},
   "outputs": [],
   "source": [
    "#Crea un array de tres 3D con elementos entre el 0 y 1 de forma (2, 3, 5) cuyos valores solo tengan 1 decimal."
   ]
  },
  {
   "cell_type": "code",
   "execution_count": 22,
   "metadata": {},
   "outputs": [],
   "source": [
    "arr3D = np.random.rand(2, 3, 5)"
   ]
  },
  {
   "cell_type": "code",
   "execution_count": 23,
   "metadata": {},
   "outputs": [
    {
     "data": {
      "text/plain": [
       "array([[[0.53807695, 0.02506216, 0.12795066, 0.54076891, 0.32446688],\n",
       "        [0.92046436, 0.5815091 , 0.88824797, 0.98625934, 0.73754701],\n",
       "        [0.96903424, 0.98453459, 0.30474408, 0.42767441, 0.84508859]],\n",
       "\n",
       "       [[0.85844875, 0.51584446, 0.5493143 , 0.04555709, 0.4709259 ],\n",
       "        [0.73219006, 0.22593697, 0.95211206, 0.05497212, 0.00884832],\n",
       "        [0.59223895, 0.91624711, 0.42640005, 0.2981674 , 0.86579352]]])"
      ]
     },
     "execution_count": 23,
     "metadata": {},
     "output_type": "execute_result"
    }
   ],
   "source": [
    "arr3D"
   ]
  },
  {
   "cell_type": "code",
   "execution_count": 24,
   "metadata": {},
   "outputs": [],
   "source": [
    "arr3D = np.round(arr3D, 1)"
   ]
  },
  {
   "cell_type": "code",
   "execution_count": 25,
   "metadata": {},
   "outputs": [
    {
     "data": {
      "text/plain": [
       "array([[[0.5, 0. , 0.1, 0.5, 0.3],\n",
       "        [0.9, 0.6, 0.9, 1. , 0.7],\n",
       "        [1. , 1. , 0.3, 0.4, 0.8]],\n",
       "\n",
       "       [[0.9, 0.5, 0.5, 0. , 0.5],\n",
       "        [0.7, 0.2, 1. , 0.1, 0. ],\n",
       "        [0.6, 0.9, 0.4, 0.3, 0.9]]])"
      ]
     },
     "execution_count": 25,
     "metadata": {},
     "output_type": "execute_result"
    }
   ],
   "source": [
    "arr3D"
   ]
  },
  {
   "cell_type": "code",
   "execution_count": 26,
   "metadata": {},
   "outputs": [],
   "source": [
    "#Crea un array vacío con la misma forma y dimensiones que el array creado anteriormente. \n",
    "#Vamos a reemplazar los valores de la matriz vacía que nos acabamos de crear pero basándonos en los \n",
    "#valores del primer array bajo las siguientes condiciones:\n",
    "\n",
    "#Si el valor del array es igual que la media, se reemplaza por \"A\".\n",
    "\n",
    "#Si el valor del array es mayor que la media, se reemplaza por \"B\".\n",
    "\n",
    "#Si el valor del array es menor que la media, se reemplaza por \"C\".\n",
    "\n",
    "#Si el valor es igual que el máximo, se reemplaza por \"D\".\n",
    "\n",
    "#Si el valor es igual que el mínimo, se reemplaza por \"E\"."
   ]
  },
  {
   "cell_type": "markdown",
   "metadata": {},
   "source": [
    "array_vacio = np.empty((filas, columnas), dtype=tipo_de_dato)        #sintaxis array vacio"
   ]
  },
  {
   "cell_type": "code",
   "execution_count": 27,
   "metadata": {},
   "outputs": [],
   "source": [
    "media = np.mean(arr3D)\n",
    "maximo = np.max(arr3D)\n",
    "minimo = np.min(arr3D)"
   ]
  },
  {
   "cell_type": "code",
   "execution_count": 28,
   "metadata": {},
   "outputs": [],
   "source": [
    "# Crear un array vacío con la misma forma y dimensiones que arr3D\n",
    "arr_vacio = np.empty_like(arr3D, dtype=object)   \n",
    "#para crear un array vacío con la misma forma y dimensiones que arr3D. El tipo object es necesario para poder almacenar letras como \"A\", \"B\", etc."
   ]
  },
  {
   "cell_type": "markdown",
   "metadata": {},
   "source": [
    "np.where(condición, valor_si_verdadera, valor_si_falsa) \n",
    "np.where para asignación de letras según las condiciones, reemplazando los valores del array vacío"
   ]
  },
  {
   "cell_type": "code",
   "execution_count": 29,
   "metadata": {},
   "outputs": [],
   "source": [
    " # Reemplazar por \"A\" si es igual a la media\n",
    "arr_vacio = np.where(arr3D == media, \"A\", arr_vacio) "
   ]
  },
  {
   "cell_type": "code",
   "execution_count": 30,
   "metadata": {},
   "outputs": [],
   "source": [
    "# Reemplazar por \"B\" si es mayor que la media\n",
    "arr_vacio = np.where(arr3D > media, \"B\", arr_vacio) "
   ]
  },
  {
   "cell_type": "code",
   "execution_count": 31,
   "metadata": {},
   "outputs": [],
   "source": [
    "# Reemplazar por \"C\" si es menor que la media\n",
    "arr_vacio = np.where(arr3D < media, \"C\", arr_vacio)   "
   ]
  },
  {
   "cell_type": "code",
   "execution_count": 32,
   "metadata": {},
   "outputs": [],
   "source": [
    "# Reemplazar por \"D\" si es igual al máximo\n",
    "arr_vacio = np.where(arr3D == maximo, \"D\", arr_vacio) "
   ]
  },
  {
   "cell_type": "code",
   "execution_count": 33,
   "metadata": {},
   "outputs": [],
   "source": [
    "# Reemplazar por \"E\" si es igual al mínimo\n",
    "arr_vacio = np.where(arr3D == minimo, \"E\", arr_vacio) "
   ]
  },
  {
   "cell_type": "code",
   "execution_count": 34,
   "metadata": {},
   "outputs": [
    {
     "data": {
      "text/plain": [
       "array([[['C', 'E', 'C', 'C', 'C'],\n",
       "        ['B', 'B', 'B', 'D', 'B'],\n",
       "        ['D', 'D', 'C', 'C', 'B']],\n",
       "\n",
       "       [['B', 'C', 'C', 'E', 'C'],\n",
       "        ['B', 'C', 'D', 'C', 'E'],\n",
       "        ['B', 'B', 'C', 'C', 'B']]], dtype=object)"
      ]
     },
     "execution_count": 34,
     "metadata": {},
     "output_type": "execute_result"
    }
   ],
   "source": [
    "arr_vacio"
   ]
  }
 ],
 "metadata": {
  "kernelspec": {
   "display_name": "base",
   "language": "python",
   "name": "python3"
  },
  "language_info": {
   "codemirror_mode": {
    "name": "ipython",
    "version": 3
   },
   "file_extension": ".py",
   "mimetype": "text/x-python",
   "name": "python",
   "nbconvert_exporter": "python",
   "pygments_lexer": "ipython3",
   "version": "3.12.7"
  }
 },
 "nbformat": 4,
 "nbformat_minor": 2
}
